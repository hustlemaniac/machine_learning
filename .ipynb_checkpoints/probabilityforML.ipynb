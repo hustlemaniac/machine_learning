{
 "cells": [
  {
   "cell_type": "code",
   "execution_count": 2,
   "metadata": {},
   "outputs": [
    {
     "name": "stdout",
     "output_type": "stream",
     "text": [
      "Hi Bhavya Sai\n",
      "Probability, 25/11/22\n"
     ]
    }
   ],
   "source": [
    "print(\"Hi Bhavya Sai\")\n",
    "print(\"Probability, 25/11/22\")"
   ]
  },
  {
   "cell_type": "markdown",
   "metadata": {},
   "source": [
    "**Three types of Probability**\n",
    "1)Joint<br>\n",
    "P(A and B) = P(A given B) * P(B)<br>\n",
    "2)Marginal<br>\n",
    "P(X=A) = sum P(X=A, Y=yi) for all y<br>\n",
    "3)Conditional<br>\n",
    "P(X=A) = P(A given B) = P(A and B) / P(B)"
   ]
  },
  {
   "cell_type": "markdown",
   "metadata": {},
   "source": [
    "For example, if a family has two children and the oldest is a boy, what is the probability of this family having two sons? Calculate Joint, Marginal and Conditional"
   ]
  },
  {
   "cell_type": "code",
   "execution_count": 7,
   "metadata": {},
   "outputs": [
    {
     "name": "stdout",
     "output_type": "stream",
     "text": [
      "['B' 'B']\n",
      "['G' 'G']\n",
      "['B' 'G']\n",
      "['G' 'B']\n",
      "Joint Probability P(older=B and younger=B) = 0.25\n",
      "['B' 'B']\n",
      "['G' 'G']\n",
      "['B' 'G']\n",
      "['G' 'B']\n",
      "Marginal Probability P(older=B) = 0.5\n",
      "['B' 'B']\n",
      "['B' 'G']\n",
      "Conditional Probability P(younger=B given older=B) = 0.5\n"
     ]
    }
   ],
   "source": [
    "import numpy as np\n",
    "\n",
    "#Joint probability\n",
    "#probability that older=\"B\" and younger=\"B\"\n",
    "#P(older=\"B\" and younger=\"B\")=P(\"B\",\"B\")\n",
    "#now, sample space \n",
    "ss=np.array([[\"B\",\"B\"],[\"G\",\"G\"],[\"B\",\"G\"],[\"G\",\"B\"]])\n",
    "bb=0\n",
    "for i in ss:\n",
    "    print(i)\n",
    "    if i[0]=='B' and i[1]=='B':\n",
    "        bb+=1\n",
    "jointP=bb/ss.shape[0]\n",
    "print(\"Joint Probability\",\"P(older=\"\"B\"\" and younger=\"\"B\"\")\",\"=\",jointP)\n",
    "\n",
    "#Marginal probability\n",
    "#probability that older=\"B\"\n",
    "#P(older=\"B\")=P(\"B\",\"B\")+P(\"B\",\"G\")\n",
    "#now, sample space \n",
    "ss1 = np.array([[\"B\",\"B\"],[\"G\",\"G\"],[\"B\",\"G\"],[\"G\",\"B\"]])\n",
    "olderboy=0\n",
    "for i in ss1:\n",
    "    print(i)\n",
    "    if i[0]==\"B\":\n",
    "        olderboy+=1\n",
    "marginalP=olderboy/ss1.shape[0]\n",
    "print(\"Marginal Probability\",\"P(older=\"\"B\"\")\",\"=\",marginalP)\n",
    "\n",
    "#Conditional probabilty\n",
    "#probability that younger=\"B\" given older=\"B\"\n",
    "#now, sample space where older is known\n",
    "ss2=np.array([[\"B\",\"B\"],[\"B\",\"G\"]])\n",
    "olderandyoung=0\n",
    "for i in ss2:\n",
    "    print(i)\n",
    "    if i[1]==\"B\":\n",
    "        olderandyoung+=1\n",
    "condtionalP=olderandyoung/ss2.shape[0]\n",
    "print(\"Conditional Probability\",\"P(younger=\"\"B\"\" given older=\"\"B\"\")\",\"=\",condtionalP)"
   ]
  },
  {
   "cell_type": "markdown",
   "metadata": {},
   "source": [
    "**Probability Distributions**\n",
    "A random variable can take on one of many possible values, e.g. events from the state space.<br>\n",
    "1)Discrete Probability Distributions<br>\n",
    "Poisson distribution.<br>\n",
    "Bernoulli and binomial distributions<br>\n",
    "Multinoulli and multinomial distributions<br>\n",
    "\n",
    "2)Continuous Probability Distributions<br>\n",
    "Normal or Gaussian distribution.<br>\n",
    "Exponential distribution.<br>\n",
    "Pareto distribution.<br>"
   ]
  },
  {
   "cell_type": "code",
   "execution_count": 19,
   "metadata": {},
   "outputs": [],
   "source": [
    "#DISCRETE PROBABILITY\n",
    "# Binary Random Variable: Bernoulli Distribution->x={0,1}\n",
    "# Sequence of a Binary Random Variable: Binomial Distribution\n",
    "# Categorical Random Variable: Multinoulli Distribution\n",
    "# Sequence of a Categorical Random Variable: Multinomial Distribution"
   ]
  },
  {
   "cell_type": "code",
   "execution_count": 20,
   "metadata": {},
   "outputs": [
    {
     "name": "stdout",
     "output_type": "stream",
     "text": [
      "Total Success: 57\n"
     ]
    }
   ],
   "source": [
    "#Binomial Distribution\n",
    "from numpy.random import binomial\n",
    "# define the parameters of the distribution\n",
    "#p=probability of success\n",
    "#k=number of trials\n",
    "p = 0.6\n",
    "k = 100\n",
    "success = binomial(k, p)\n",
    "print('Total Success:',success)\n"
   ]
  },
  {
   "cell_type": "code",
   "execution_count": 21,
   "metadata": {},
   "outputs": [
    {
     "name": "stdout",
     "output_type": "stream",
     "text": [
      "P of 10 success: 0.000%\n",
      "P of 20 success: 0.000%\n",
      "P of 30 success: 0.000%\n",
      "P of 40 success: 0.002%\n",
      "P of 50 success: 1.034%\n",
      "P of 60 success: 8.122%\n",
      "P of 70 success: 1.001%\n",
      "P of 80 success: 0.001%\n",
      "P of 90 success: 0.000%\n",
      "P of 100 success: 0.000%\n"
     ]
    }
   ],
   "source": [
    "#Bonus\n",
    "# pmf=probability mass function to calculate the probability of a given successful outcomes\n",
    "from scipy.stats import binom\n",
    "dist = binom(k, p)\n",
    "# calculate the probability of n successes\n",
    "prob=[]\n",
    "for n in range(10, 110, 10):\n",
    "    k=dist.pmf(n)*100\n",
    "    prob.append(k)\n",
    "    print('P of %d success: %.3f%%' % (n, k))\n"
   ]
  },
  {
   "cell_type": "code",
   "execution_count": 22,
   "metadata": {},
   "outputs": [
    {
     "name": "stdout",
     "output_type": "stream",
     "text": [
      "Category 1: 44\n",
      "Category 2: 34\n",
      "Category 3: 22\n"
     ]
    }
   ],
   "source": [
    "# Multinomial distribution\n",
    "from numpy.random import multinomial\n",
    "# define the parameters of the distribution\n",
    "p = [1.0/3.0, 1.0/3.0, 1.0/3.0]\n",
    "k = 100\n",
    "# run a single simulation\n",
    "cases = multinomial(k, p)\n",
    "# summarize cases\n",
    "for i in range(len(cases)):\n",
    "\tprint('Category %d: %d' % (i+1, cases[i]))\n",
    "#We might expect the idealized case of 100 trials to result in 33, 33, and 34 cases for events 1, 2 and 3 respectively.\n",
    "#but its gonna give different "
   ]
  },
  {
   "cell_type": "code",
   "execution_count": 23,
   "metadata": {},
   "outputs": [
    {
     "name": "stdout",
     "output_type": "stream",
     "text": [
      "Case=[33, 33, 34], Probability: 0.813%\n"
     ]
    }
   ],
   "source": [
    "#bounus\n",
    "# calculate the probability for a given number of events of each type\n",
    "from scipy.stats import multinomial\n",
    "# define the parameters of the distribution\n",
    "p = [1.0/3.0, 1.0/3.0, 1.0/3.0]\n",
    "k = 100\n",
    "# define the distribution\n",
    "dist = multinomial(k, p)\n",
    "# define a specific number of outcomes from 100 trials\n",
    "cases = [33, 33, 34]\n",
    "# cases=[37,29,24]\n",
    "# calculate the probability for the getting case1, case2, case3\n",
    "pr = dist.pmf(cases)\n",
    "# print as a percentage\n",
    "print('Case=%s, Probability: %.3f%%' % (cases, pr*100))"
   ]
  },
  {
   "cell_type": "code",
   "execution_count": 26,
   "metadata": {},
   "outputs": [
    {
     "name": "stdout",
     "output_type": "stream",
     "text": [
      "[58.77294162 44.43652753 46.9301429  52.41904133 54.05364471 38.41249316\n",
      " 51.30212453 52.85429163 51.5454771  51.10201578]\n"
     ]
    }
   ],
   "source": [
    "#normal/gaussian distribution\n",
    "from numpy.random import normal\n",
    "import matplotlib.pyplot as plt\n",
    "# define the parameters distribution\n",
    "mu = 50\n",
    "sigma = 5\n",
    "n = 10\n",
    "# generate the sample\n",
    "sample = normal(mu, sigma, n)\n",
    "print(sample)"
   ]
  },
  {
   "cell_type": "code",
   "execution_count": 29,
   "metadata": {},
   "outputs": [
    {
     "data": {
      "image/png": "[encoded data removed]",
      "text/plain": [
       "<Figure size 432x288 with 1 Axes>"
      ]
     },
     "metadata": {
      "needs_background": "light"
     },
     "output_type": "display_data"
    },
    {
     "data": {
      "image/png": "[encoded data removed]",
      "text/plain": [
       "<Figure size 432x288 with 1 Axes>"
      ]
     },
     "metadata": {
      "needs_background": "light"
     },
     "output_type": "display_data"
    }
   ],
   "source": [
    "# pdf and cdf for a normal distribution\n",
    "from scipy.stats import norm\n",
    "from matplotlib import pyplot\n",
    "# define distribution parameters\n",
    "mu = 50\n",
    "sigma = 5\n",
    "# create distribution\n",
    "dist = norm(mu, sigma)\n",
    "# plot pdf\n",
    "values = [value for value in range(30, 70)]\n",
    "probabilities = [dist.pdf(value) for value in values]\n",
    "pyplot.plot(values, probabilities)\n",
    "pyplot.show()\n",
    "# plot cdf\n",
    "cprobs = [dist.cdf(value) for value in values]\n",
    "pyplot.plot(values, cprobs)\n",
    "pyplot.show()"
   ]
  },
  {
   "cell_type": "code",
   "execution_count": 30,
   "metadata": {},
   "outputs": [
    {
     "name": "stdout",
     "output_type": "stream",
     "text": [
      "[30.79945519 81.00361695 13.12213281 27.80954995 56.81392176 25.26498459\n",
      "  0.08165662 67.30759986  3.46274564 21.21341962]\n"
     ]
    }
   ],
   "source": [
    "# sample an exponential distribution\n",
    "from numpy.random import exponential\n",
    "# define the distribution\n",
    "beta = 50\n",
    "n = 10\n",
    "# generate the sample\n",
    "sample = exponential(beta, n)\n",
    "print(sample)"
   ]
  },
  {
   "cell_type": "code",
   "execution_count": 31,
   "metadata": {},
   "outputs": [
    {
     "data": {
      "image/png": "[encoded data removed]",
      "text/plain": [
       "<Figure size 432x288 with 1 Axes>"
      ]
     },
     "metadata": {
      "needs_background": "light"
     },
     "output_type": "display_data"
    },
    {
     "data": {
      "image/png": "[encoded data removed]",
      "text/plain": [
       "<Figure size 432x288 with 1 Axes>"
      ]
     },
     "metadata": {
      "needs_background": "light"
     },
     "output_type": "display_data"
    }
   ],
   "source": [
    "# pdf and cdf for an exponential distribution\n",
    "from scipy.stats import expon\n",
    "from matplotlib import pyplot\n",
    "# define distribution parameter\n",
    "beta = 50\n",
    "# create distribution\n",
    "dist = expon(beta)\n",
    "# plot pdf\n",
    "values = [value for value in range(50, 70)]\n",
    "probabilities = [dist.pdf(value) for value in values]\n",
    "pyplot.plot(values, probabilities)\n",
    "pyplot.show()\n",
    "# plot cdf\n",
    "cprobs = [dist.cdf(value) for value in values]\n",
    "pyplot.plot(values, cprobs)\n",
    "pyplot.show()"
   ]
  },
  {
   "cell_type": "code",
   "execution_count": 32,
   "metadata": {},
   "outputs": [
    {
     "name": "stdout",
     "output_type": "stream",
     "text": [
      "[0.32005535 0.23168653 1.02958446 1.96418859 0.44357314 0.08233421\n",
      " 0.29619952 1.03525914 0.23487777 0.23236232]\n"
     ]
    }
   ],
   "source": [
    "# sample a pareto distribution\n",
    "from numpy.random import pareto\n",
    "# define the distribution\n",
    "alpha = 1.1\n",
    "n = 10\n",
    "# generate the sample\n",
    "sample = pareto(alpha, n)\n",
    "print(sample)"
   ]
  },
  {
   "cell_type": "code",
   "execution_count": 33,
   "metadata": {},
   "outputs": [
    {
     "data": {
      "image/png": "[encoded data removed]",
      "text/plain": [
       "<Figure size 432x288 with 1 Axes>"
      ]
     },
     "metadata": {
      "needs_background": "light"
     },
     "output_type": "display_data"
    },
    {
     "data": {
      "image/png": "[encoded data removed]",
      "text/plain": [
       "<Figure size 432x288 with 1 Axes>"
      ]
     },
     "metadata": {
      "needs_background": "light"
     },
     "output_type": "display_data"
    }
   ],
   "source": [
    "# pdf and cdf for a pareto distribution\n",
    "from scipy.stats import pareto\n",
    "from matplotlib import pyplot\n",
    "# define distribution parameter\n",
    "alpha = 1.5\n",
    "# create distribution\n",
    "dist = pareto(alpha)\n",
    "# plot pdf\n",
    "values = [value/10.0 for value in range(10, 100)]\n",
    "probabilities = [dist.pdf(value) for value in values]\n",
    "pyplot.plot(values, probabilities)\n",
    "pyplot.show()\n",
    "# plot cdf\n",
    "cprobs = [dist.cdf(value) for value in values]\n",
    "pyplot.plot(values, cprobs)\n",
    "pyplot.show()"
   ]
  }
 ],
 "metadata": {
  "kernelspec": {
   "display_name": "Python 3.9.7 ('base')",
   "language": "python",
   "name": "python3"
  },
  "language_info": {
   "codemirror_mode": {
    "name": "ipython",
    "version": 3
   },
   "file_extension": ".py",
   "mimetype": "text/x-python",
   "name": "python",
   "nbconvert_exporter": "python",
   "pygments_lexer": "ipython3",
   "version": "3.9.7"
  },
  "orig_nbformat": 4,
  "vscode": {
   "interpreter": {
    "hash": "ee9dfcf03ef883f799e8db599acd57d78b13ea7c83670eb20ef8000875df171a"
   }
  }
 },
 "nbformat": 4,
 "nbformat_minor": 2
}
